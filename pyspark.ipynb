{
 "cells": [
  {
   "cell_type": "code",
   "execution_count": 1,
   "id": "5cd07057-d58d-4eab-9ff4-c7ddbd129c50",
   "metadata": {},
   "outputs": [
    {
     "name": "stderr",
     "output_type": "stream",
     "text": [
      "WARNING:root:'PYARROW_IGNORE_TIMEZONE' environment variable was not set. It is required to set this environment variable to '1' in both driver and executor sides if you use pyarrow>=2.0.0. pandas-on-Spark will set it for you but it does not work if there is a Spark context already launched.\n"
     ]
    }
   ],
   "source": [
    "import pandas as pd\n",
    "import numpy as np\n",
    "import pyspark.pandas as ps\n",
    "import os\n",
    "from pyspark import SparkConf, SparkContext\n",
    "from pyspark.sql import SparkSession\n",
    "import pyspark.sql.functions as fn\n",
    "from sklearn import preprocessing\n",
    "\n",
    "from pyspark.ml.classification import LogisticRegression\n",
    "from pyspark.mllib.tree import RandomForest\n",
    "from pyspark.ml.feature import HashingTF , Tokenizer\n",
    "from pyspark.ml import Pipeline\n",
    "\n",
    "import findspark\n",
    "findspark.init('/opt/spark-3.2.1-bin-hadoop3.2/')"
   ]
  },
  {
   "cell_type": "code",
   "execution_count": 2,
   "id": "fb7de811-30d4-4551-b3ac-caee015702a2",
   "metadata": {},
   "outputs": [
    {
     "name": "stderr",
     "output_type": "stream",
     "text": [
      "Setting default log level to \"WARN\".\n",
      "To adjust logging level use sc.setLogLevel(newLevel). For SparkR, use setLogLevel(newLevel).\n",
      "2022-05-31 19:37:45,492 WARN util.NativeCodeLoader: Unable to load native-hadoop library for your platform... using builtin-java classes where applicable\n"
     ]
    }
   ],
   "source": [
    "# yarn mode\n",
    "spark = SparkSession\\\n",
    "        .builder\\\n",
    "        .master(\"yarn\")\\\n",
    "        .config('spark.executor.instances','18')\\\n",
    "        .config('spark.executor.memory','8G')\\\n",
    "        .appName(\"iv\")\\\n",
    "        .getOrCreate()"
   ]
  },
  {
   "cell_type": "code",
   "execution_count": 4,
   "id": "85945e89-9fe3-4842-ac94-1907f046c0f0",
   "metadata": {},
   "outputs": [
    {
     "data": {
      "text/html": [
       "\n",
       "            <div>\n",
       "                <p><b>SparkSession - in-memory</b></p>\n",
       "                \n",
       "        <div>\n",
       "            <p><b>SparkContext</b></p>\n",
       "\n",
       "            <p><a href=\"http://bdse81.example.com:4040\">Spark UI</a></p>\n",
       "\n",
       "            <dl>\n",
       "              <dt>Version</dt>\n",
       "                <dd><code>v3.2.1</code></dd>\n",
       "              <dt>Master</dt>\n",
       "                <dd><code>yarn</code></dd>\n",
       "              <dt>AppName</dt>\n",
       "                <dd><code>iv</code></dd>\n",
       "            </dl>\n",
       "        </div>\n",
       "        \n",
       "            </div>\n",
       "        "
      ],
      "text/plain": [
       "<pyspark.sql.session.SparkSession at 0x7f79206f4760>"
      ]
     },
     "execution_count": 4,
     "metadata": {},
     "output_type": "execute_result"
    }
   ],
   "source": [
    "spark"
   ]
  },
  {
   "cell_type": "code",
   "execution_count": 5,
   "id": "a636f8e3-830d-40c7-b797-af2a6a4f30d5",
   "metadata": {},
   "outputs": [],
   "source": [
    "spark.conf.set(\"spark.sql.execution.arrow.pyscpark.enabled\", True)\n",
    "\n",
    "os.environ[\"PYARROW_IGNORE_TIMEZONE\"] = \"1\"\n",
    "\n",
    "ps.set_option(\"compute.default_index_type\", \"distributed\")"
   ]
  },
  {
   "cell_type": "markdown",
   "id": "2200ead0-7193-4125-9da4-80b2d44cd942",
   "metadata": {},
   "source": [
    "---"
   ]
  },
  {
   "cell_type": "markdown",
   "id": "e10caa33-871c-43bf-9c0c-7d7259d55574",
   "metadata": {
    "tags": []
   },
   "source": [
    "# pandas dataframe to spark-dataframe"
   ]
  },
  {
   "cell_type": "code",
   "execution_count": 32,
   "id": "12fed16e-74c2-4d61-bccd-eae3d130aa77",
   "metadata": {},
   "outputs": [
    {
     "name": "stderr",
     "output_type": "stream",
     "text": [
      "[Stage 37:===============================>                        (10 + 3) / 18]\r"
     ]
    },
    {
     "name": "stdout",
     "output_type": "stream",
     "text": [
      "root\n",
      " |-- address: string (nullable = true)\n",
      " |-- style: string (nullable = true)\n",
      " |-- percent: double (nullable = true)\n",
      " |-- district: string (nullable = true)\n",
      " |-- parking_price: double (nullable = true)\n",
      " |-- date: integer (nullable = true)\n",
      " |-- floor: integer (nullable = true)\n",
      " |-- age: double (nullable = true)\n",
      " |-- latitude: double (nullable = true)\n",
      " |-- longitude: double (nullable = true)\n",
      " |-- management: integer (nullable = true)\n",
      " |-- size: double (nullable = true)\n",
      " |-- total_price: double (nullable = true)\n",
      " |-- room: integer (nullable = true)\n",
      " |-- living: integer (nullable = true)\n",
      " |-- bath: integer (nullable = true)\n",
      " |-- avg: double (nullable = true)\n",
      "\n"
     ]
    },
    {
     "name": "stderr",
     "output_type": "stream",
     "text": [
      "                                                                                \r"
     ]
    }
   ],
   "source": [
    "df = spark.read.csv('1_taipei_purged.csv', header = True, inferSchema = True)\n",
    "df.printSchema()"
   ]
  },
  {
   "cell_type": "code",
   "execution_count": 33,
   "id": "66d8f67e-87a8-4a13-b3f3-5443bd76019e",
   "metadata": {},
   "outputs": [
    {
     "name": "stdout",
     "output_type": "stream",
     "text": [
      "(486774, 17)\n"
     ]
    }
   ],
   "source": [
    "print((df.count(), len(df.columns)))"
   ]
  },
  {
   "cell_type": "code",
   "execution_count": 34,
   "id": "fabb4d8a-b4af-4a3e-8bae-72a6aa95571a",
   "metadata": {},
   "outputs": [],
   "source": [
    "df = df.drop('district', 'avg', 'style', 'address')"
   ]
  },
  {
   "cell_type": "code",
   "execution_count": 35,
   "id": "55d4b890-2d85-40ae-a644-9c21a742ee18",
   "metadata": {},
   "outputs": [
    {
     "name": "stdout",
     "output_type": "stream",
     "text": [
      "root\n",
      " |-- percent: double (nullable = true)\n",
      " |-- parking_price: double (nullable = true)\n",
      " |-- date: integer (nullable = true)\n",
      " |-- floor: integer (nullable = true)\n",
      " |-- age: double (nullable = true)\n",
      " |-- latitude: double (nullable = true)\n",
      " |-- longitude: double (nullable = true)\n",
      " |-- management: integer (nullable = true)\n",
      " |-- size: double (nullable = true)\n",
      " |-- total_price: double (nullable = true)\n",
      " |-- room: integer (nullable = true)\n",
      " |-- living: integer (nullable = true)\n",
      " |-- bath: integer (nullable = true)\n",
      "\n"
     ]
    }
   ],
   "source": [
    "df.printSchema()"
   ]
  },
  {
   "cell_type": "code",
   "execution_count": 36,
   "id": "6428820b-1f5d-4dc0-9058-fbfa7802eaa2",
   "metadata": {},
   "outputs": [
    {
     "name": "stderr",
     "output_type": "stream",
     "text": [
      "                                                                                \r"
     ]
    },
    {
     "data": {
      "text/html": [
       "<div>\n",
       "<style scoped>\n",
       "    .dataframe tbody tr th:only-of-type {\n",
       "        vertical-align: middle;\n",
       "    }\n",
       "\n",
       "    .dataframe tbody tr th {\n",
       "        vertical-align: top;\n",
       "    }\n",
       "\n",
       "    .dataframe thead th {\n",
       "        text-align: right;\n",
       "    }\n",
       "</style>\n",
       "<table border=\"1\" class=\"dataframe\">\n",
       "  <thead>\n",
       "    <tr style=\"text-align: right;\">\n",
       "      <th></th>\n",
       "      <th>0</th>\n",
       "      <th>1</th>\n",
       "      <th>2</th>\n",
       "      <th>3</th>\n",
       "      <th>4</th>\n",
       "    </tr>\n",
       "  </thead>\n",
       "  <tbody>\n",
       "    <tr>\n",
       "      <th>summary</th>\n",
       "      <td>count</td>\n",
       "      <td>mean</td>\n",
       "      <td>stddev</td>\n",
       "      <td>min</td>\n",
       "      <td>max</td>\n",
       "    </tr>\n",
       "    <tr>\n",
       "      <th>percent</th>\n",
       "      <td>486774</td>\n",
       "      <td>63.30324996815774</td>\n",
       "      <td>19.80554113947344</td>\n",
       "      <td>0.0</td>\n",
       "      <td>100.0</td>\n",
       "    </tr>\n",
       "    <tr>\n",
       "      <th>parking_price</th>\n",
       "      <td>486774</td>\n",
       "      <td>43.53548874837193</td>\n",
       "      <td>106.11649419483994</td>\n",
       "      <td>0.0</td>\n",
       "      <td>19720.0</td>\n",
       "    </tr>\n",
       "    <tr>\n",
       "      <th>date</th>\n",
       "      <td>486774</td>\n",
       "      <td>201697.78076479022</td>\n",
       "      <td>277.6166137983045</td>\n",
       "      <td>201301</td>\n",
       "      <td>202112</td>\n",
       "    </tr>\n",
       "    <tr>\n",
       "      <th>floor</th>\n",
       "      <td>486774</td>\n",
       "      <td>6.901668946985665</td>\n",
       "      <td>5.1604540850357195</td>\n",
       "      <td>1</td>\n",
       "      <td>45</td>\n",
       "    </tr>\n",
       "    <tr>\n",
       "      <th>age</th>\n",
       "      <td>486774</td>\n",
       "      <td>15.458083217263042</td>\n",
       "      <td>14.662437326941834</td>\n",
       "      <td>0.0</td>\n",
       "      <td>88.0</td>\n",
       "    </tr>\n",
       "    <tr>\n",
       "      <th>latitude</th>\n",
       "      <td>486774</td>\n",
       "      <td>25.04942000155616</td>\n",
       "      <td>0.0825757280634249</td>\n",
       "      <td>0.0</td>\n",
       "      <td>25.29294802135113</td>\n",
       "    </tr>\n",
       "    <tr>\n",
       "      <th>longitude</th>\n",
       "      <td>486774</td>\n",
       "      <td>121.49138015480173</td>\n",
       "      <td>0.2570793573066798</td>\n",
       "      <td>0.0</td>\n",
       "      <td>121.92797110266169</td>\n",
       "    </tr>\n",
       "    <tr>\n",
       "      <th>management</th>\n",
       "      <td>486774</td>\n",
       "      <td>0.7030531622477783</td>\n",
       "      <td>0.4569133858683895</td>\n",
       "      <td>0</td>\n",
       "      <td>1</td>\n",
       "    </tr>\n",
       "    <tr>\n",
       "      <th>size</th>\n",
       "      <td>486774</td>\n",
       "      <td>38.83292838154863</td>\n",
       "      <td>27.898046153454107</td>\n",
       "      <td>0.02</td>\n",
       "      <td>10738.54</td>\n",
       "    </tr>\n",
       "    <tr>\n",
       "      <th>total_price</th>\n",
       "      <td>486774</td>\n",
       "      <td>1447.6993678791391</td>\n",
       "      <td>1254.2884583911584</td>\n",
       "      <td>0.1</td>\n",
       "      <td>186978.1</td>\n",
       "    </tr>\n",
       "    <tr>\n",
       "      <th>room</th>\n",
       "      <td>486774</td>\n",
       "      <td>2.661584225944689</td>\n",
       "      <td>1.595943439322205</td>\n",
       "      <td>0</td>\n",
       "      <td>784</td>\n",
       "    </tr>\n",
       "    <tr>\n",
       "      <th>living</th>\n",
       "      <td>486774</td>\n",
       "      <td>1.6990965006347916</td>\n",
       "      <td>0.6057617935227269</td>\n",
       "      <td>0</td>\n",
       "      <td>80</td>\n",
       "    </tr>\n",
       "    <tr>\n",
       "      <th>bath</th>\n",
       "      <td>486774</td>\n",
       "      <td>1.644561952774799</td>\n",
       "      <td>1.4355494065363728</td>\n",
       "      <td>0</td>\n",
       "      <td>817</td>\n",
       "    </tr>\n",
       "  </tbody>\n",
       "</table>\n",
       "</div>"
      ],
      "text/plain": [
       "                    0                   1                   2       3  \\\n",
       "summary         count                mean              stddev     min   \n",
       "percent        486774   63.30324996815774   19.80554113947344     0.0   \n",
       "parking_price  486774   43.53548874837193  106.11649419483994     0.0   \n",
       "date           486774  201697.78076479022   277.6166137983045  201301   \n",
       "floor          486774   6.901668946985665  5.1604540850357195       1   \n",
       "age            486774  15.458083217263042  14.662437326941834     0.0   \n",
       "latitude       486774   25.04942000155616  0.0825757280634249     0.0   \n",
       "longitude      486774  121.49138015480173  0.2570793573066798     0.0   \n",
       "management     486774  0.7030531622477783  0.4569133858683895       0   \n",
       "size           486774   38.83292838154863  27.898046153454107    0.02   \n",
       "total_price    486774  1447.6993678791391  1254.2884583911584     0.1   \n",
       "room           486774   2.661584225944689   1.595943439322205       0   \n",
       "living         486774  1.6990965006347916  0.6057617935227269       0   \n",
       "bath           486774   1.644561952774799  1.4355494065363728       0   \n",
       "\n",
       "                                4  \n",
       "summary                       max  \n",
       "percent                     100.0  \n",
       "parking_price             19720.0  \n",
       "date                       202112  \n",
       "floor                          45  \n",
       "age                          88.0  \n",
       "latitude        25.29294802135113  \n",
       "longitude      121.92797110266169  \n",
       "management                      1  \n",
       "size                     10738.54  \n",
       "total_price              186978.1  \n",
       "room                          784  \n",
       "living                         80  \n",
       "bath                          817  "
      ]
     },
     "execution_count": 36,
     "metadata": {},
     "output_type": "execute_result"
    }
   ],
   "source": [
    "# show\n",
    "numeric_features = [ t[0] for t in df.dtypes ]\n",
    "df.select(numeric_features).describe().toPandas().transpose()"
   ]
  },
  {
   "cell_type": "code",
   "execution_count": 38,
   "id": "e5d69d72-220b-4d27-ae2a-a40bbda75937",
   "metadata": {},
   "outputs": [
    {
     "data": {
      "text/plain": [
       "['percent',\n",
       " 'parking_price',\n",
       " 'date',\n",
       " 'floor',\n",
       " 'age',\n",
       " 'latitude',\n",
       " 'longitude',\n",
       " 'management',\n",
       " 'size',\n",
       " 'total_price',\n",
       " 'room',\n",
       " 'living',\n",
       " 'bath']"
      ]
     },
     "execution_count": 38,
     "metadata": {},
     "output_type": "execute_result"
    }
   ],
   "source": [
    "numeric_features"
   ]
  },
  {
   "cell_type": "code",
   "execution_count": 39,
   "id": "193a3f95-b0eb-4334-b0aa-b416ee265abd",
   "metadata": {},
   "outputs": [
    {
     "name": "stdout",
     "output_type": "stream",
     "text": [
      "+-------+-------------+------+-----+----+------------------+------------------+----------+-----+-----------+----+------+----+--------------------+\n",
      "|percent|parking_price|  date|floor| age|          latitude|         longitude|management| size|total_price|room|living|bath|            features|\n",
      "+-------+-------------+------+-----+----+------------------+------------------+----------+-----+-----------+----+------+----+--------------------+\n",
      "|   63.8|          0.0|202112|    2|34.0|25.055331674864203| 121.5376145905065|         1|10.52|      876.0|   1|     1|   1|[63.8,0.0,202112....|\n",
      "|   48.9|        180.0|202112|    5| 6.0| 25.05682409251319| 121.5267584666694|         1|46.39|     3188.0|   3|     2|   1|[48.9,180.0,20211...|\n",
      "|   83.3|        500.0|202112|    7|33.0|25.055016099844707|121.53750419269846|         1|82.75|     4052.6|   3|     0|   0|[83.3,500.0,20211...|\n",
      "|   80.2|        300.0|202112|    7|33.0|25.055016099844707|121.53750419269846|         1| 85.5|     4811.7|   4|     0|   0|[80.2,300.0,20211...|\n",
      "|   70.1|          0.0|202112|    4|36.0| 25.05774237570079| 121.5249387233178|         1|28.67|     1200.0|   2|     1|   1|[70.1,0.0,202112....|\n",
      "|   43.5|        340.0|202112|    6| 0.0|25.067616867046603|121.52300830460516|         1|51.57|     3994.0|   2|     2|   2|[43.5,340.0,20211...|\n",
      "|   80.6|          0.0|202112|   12|40.0|25.063683570082755|121.52728338005475|         1| 9.26|      600.0|   1|     1|   1|[80.6,0.0,202112....|\n",
      "|   39.9|          0.0|202112|   11|12.0|25.064799132400005|121.52328378311664|         1|19.31|     1056.0|   1|     1|   1|[39.9,0.0,202112....|\n",
      "|   58.3|          0.0|202112|    9|40.0|25.055531865683083|121.52709983028392|         1|17.45|     1089.0|   2|     1|   1|[58.3,0.0,202112....|\n",
      "|   45.2|        160.0|202112|    2| 6.0| 25.05682409251319| 121.5267584666694|         1| 39.2|     2379.0|   2|     2|   1|[45.2,160.0,20211...|\n",
      "|   80.3|          0.0|202112|    5|42.0| 25.06649455259456|121.52636368971844|         1|17.52|      950.0|   2|     1|   1|[80.3,0.0,202112....|\n",
      "|   49.9|          0.0|202112|   10|21.0| 25.07861975800188|121.55833508094862|         1|47.03|     2950.0|   3|     2|   2|[49.9,0.0,202112....|\n",
      "|   76.1|          0.0|202112|    5|36.0| 25.05688266993918| 121.5430824057112|         1|34.67|     2758.0|   3|     2|   2|[76.1,0.0,202112....|\n",
      "|   75.3|          0.0|202112|    9|36.0| 25.05688266993918| 121.5430824057112|         1|11.18|      350.0|   3|     2|   1|[75.3,0.0,202112....|\n",
      "|   45.2|        180.0|202112|    6| 6.0| 25.05682409251319| 121.5267584666694|         1| 39.2|     2468.0|   2|     2|   1|[45.2,180.0,20211...|\n",
      "|   64.5|          0.0|202112|    6|25.0|25.061614921863928|121.54017936023736|         1| 46.2|     3860.0|   3|     2|   2|[64.5,0.0,202112....|\n",
      "|   53.5|          0.0|202112|    6|24.0|25.056813692480397|121.52714495775128|         1|17.15|     1050.0|   2|     1|   1|[53.5,0.0,202112....|\n",
      "|  100.0|          0.0|202112|    6|50.0|25.057157044641382|121.52706713699573|         1|12.48|      550.0|   1|     1|   1|[100.0,0.0,202112...|\n",
      "|   44.4|          0.0|202112|   12|10.0| 25.06599874875719|121.52615342095103|         1| 44.0|     2750.0|   1|     2|   1|[44.4,0.0,202112....|\n",
      "|   43.1|          0.0|202112|    7|14.0|25.083847025428263| 121.5535012687133|         1|33.96|     2419.0|   2|     2|   1|[43.1,0.0,202112....|\n",
      "+-------+-------------+------+-----+----+------------------+------------------+----------+-----+-----------+----+------+----+--------------------+\n",
      "only showing top 20 rows\n",
      "\n"
     ]
    },
    {
     "name": "stderr",
     "output_type": "stream",
     "text": [
      "2022-05-31 19:29:14,895 WARN util.package: Truncated the string representation of a plan since it was too large. This behavior can be adjusted by setting 'spark.sql.debug.maxToStringFields'.\n"
     ]
    }
   ],
   "source": [
    "from pyspark.ml.feature import VectorAssembler\n",
    "\n",
    "assembler = VectorAssembler(inputCols=numeric_features, outputCol=\"features\")\n",
    "df = assembler.transform(df)\n",
    "df.show()"
   ]
  },
  {
   "cell_type": "code",
   "execution_count": 40,
   "id": "181d839f-090a-44ba-a9eb-57c9d1d0d1cf",
   "metadata": {},
   "outputs": [
    {
     "name": "stderr",
     "output_type": "stream",
     "text": [
      "                                                                                \r"
     ]
    },
    {
     "name": "stdout",
     "output_type": "stream",
     "text": [
      "+-------+-------------+------+-----+----+------------------+------------------+----------+-----+-----------+----+------+----+--------------------+-------+\n",
      "|percent|parking_price|  date|floor| age|          latitude|         longitude|management| size|total_price|room|living|bath|            features|  label|\n",
      "+-------+-------------+------+-----+----+------------------+------------------+----------+-----+-----------+----+------+----+--------------------+-------+\n",
      "|   63.8|          0.0|202112|    2|34.0|25.055331674864203| 121.5376145905065|         1|10.52|      876.0|   1|     1|   1|[63.8,0.0,202112....|  711.0|\n",
      "|   48.9|        180.0|202112|    5| 6.0| 25.05682409251319| 121.5267584666694|         1|46.39|     3188.0|   3|     2|   1|[48.9,180.0,20211...|  782.0|\n",
      "|   83.3|        500.0|202112|    7|33.0|25.055016099844707|121.53750419269846|         1|82.75|     4052.6|   3|     0|   0|[83.3,500.0,20211...|11211.0|\n",
      "|   80.2|        300.0|202112|    7|33.0|25.055016099844707|121.53750419269846|         1| 85.5|     4811.7|   4|     0|   0|[80.2,300.0,20211...|11759.0|\n",
      "|   70.1|          0.0|202112|    4|36.0| 25.05774237570079| 121.5249387233178|         1|28.67|     1200.0|   2|     1|   1|[70.1,0.0,202112....|    1.0|\n",
      "|   43.5|        340.0|202112|    6| 0.0|25.067616867046603|121.52300830460516|         1|51.57|     3994.0|   2|     2|   2|[43.5,340.0,20211...|11168.0|\n",
      "|   80.6|          0.0|202112|   12|40.0|25.063683570082755|121.52728338005475|         1| 9.26|      600.0|   1|     1|   1|[80.6,0.0,202112....|    7.0|\n",
      "|   39.9|          0.0|202112|   11|12.0|25.064799132400005|121.52328378311664|         1|19.31|     1056.0|   1|     1|   1|[39.9,0.0,202112....|  704.0|\n",
      "|   58.3|          0.0|202112|    9|40.0|25.055531865683083|121.52709983028392|         1|17.45|     1089.0|   2|     1|   1|[58.3,0.0,202112....| 1104.0|\n",
      "|   45.2|        160.0|202112|    2| 6.0| 25.05682409251319| 121.5267584666694|         1| 39.2|     2379.0|   2|     2|   1|[45.2,160.0,20211...| 2967.0|\n",
      "|   80.3|          0.0|202112|    5|42.0| 25.06649455259456|121.52636368971844|         1|17.52|      950.0|   2|     1|   1|[80.3,0.0,202112....|   13.0|\n",
      "|   49.9|          0.0|202112|   10|21.0| 25.07861975800188|121.55833508094862|         1|47.03|     2950.0|   3|     2|   2|[49.9,0.0,202112....|  240.0|\n",
      "|   76.1|          0.0|202112|    5|36.0| 25.05688266993918| 121.5430824057112|         1|34.67|     2758.0|   3|     2|   2|[76.1,0.0,202112....| 1084.0|\n",
      "|   75.3|          0.0|202112|    9|36.0| 25.05688266993918| 121.5430824057112|         1|11.18|      350.0|   3|     2|   1|[75.3,0.0,202112....|   79.0|\n",
      "|   45.2|        180.0|202112|    6| 6.0| 25.05682409251319| 121.5267584666694|         1| 39.2|     2468.0|   2|     2|   1|[45.2,180.0,20211...|  713.0|\n",
      "|   64.5|          0.0|202112|    6|25.0|25.061614921863928|121.54017936023736|         1| 46.2|     3860.0|   3|     2|   2|[64.5,0.0,202112....| 1204.0|\n",
      "|   53.5|          0.0|202112|    6|24.0|25.056813692480397|121.52714495775128|         1|17.15|     1050.0|   2|     1|   1|[53.5,0.0,202112....|   10.0|\n",
      "|  100.0|          0.0|202112|    6|50.0|25.057157044641382|121.52706713699573|         1|12.48|      550.0|   1|     1|   1|[100.0,0.0,202112...|   25.0|\n",
      "|   44.4|          0.0|202112|   12|10.0| 25.06599874875719|121.52615342095103|         1| 44.0|     2750.0|   1|     2|   1|[44.4,0.0,202112....|  172.0|\n",
      "|   43.1|          0.0|202112|    7|14.0|25.083847025428263| 121.5535012687133|         1|33.96|     2419.0|   2|     2|   1|[43.1,0.0,202112....| 4654.0|\n",
      "+-------+-------------+------+-----+----+------------------+------------------+----------+-----+-----------+----+------+----+--------------------+-------+\n",
      "only showing top 20 rows\n",
      "\n"
     ]
    }
   ],
   "source": [
    "from pyspark.ml.feature import StringIndexer\n",
    "\n",
    "label_stringIdx = StringIndexer(inputCol = 'total_price', outputCol = 'label')\n",
    "df = label_stringIdx.fit(df).transform(df)\n",
    "df.show()"
   ]
  },
  {
   "cell_type": "markdown",
   "id": "645b1540-5c69-420d-adf2-0e8a5ef3a9b9",
   "metadata": {},
   "source": [
    "# Random Forest"
   ]
  },
  {
   "cell_type": "code",
   "execution_count": 6,
   "id": "bec15457-2110-4ab0-ae13-daeb0e0beef6",
   "metadata": {},
   "outputs": [],
   "source": [
    "from pyspark.ml.regression import RandomForestRegressor\n",
    "from pyspark.ml.evaluation import RegressionEvaluator\n",
    "from pyspark.ml.tuning import ParamGridBuilder, CrossValidator\n",
    "from pyspark.ml.feature import StringIndexer\n",
    "from pyspark.ml.feature import VectorAssembler"
   ]
  },
  {
   "cell_type": "code",
   "execution_count": 17,
   "id": "9448fd64-ac03-47ff-9306-35fe96f15472",
   "metadata": {
    "tags": []
   },
   "outputs": [
    {
     "name": "stderr",
     "output_type": "stream",
     "text": [
      "                                                                                \r"
     ]
    }
   ],
   "source": [
    "df = spark.read.csv('1_taipei_purged.csv', header = True, inferSchema = True)"
   ]
  },
  {
   "cell_type": "code",
   "execution_count": 18,
   "id": "0e0e0f06-ce98-4ca0-afcd-32172591b24b",
   "metadata": {},
   "outputs": [
    {
     "name": "stdout",
     "output_type": "stream",
     "text": [
      "root\n",
      " |-- percent: double (nullable = true)\n",
      " |-- parking_price: double (nullable = true)\n",
      " |-- date: integer (nullable = true)\n",
      " |-- floor: integer (nullable = true)\n",
      " |-- age: double (nullable = true)\n",
      " |-- latitude: double (nullable = true)\n",
      " |-- longitude: double (nullable = true)\n",
      " |-- management: integer (nullable = true)\n",
      " |-- size: double (nullable = true)\n",
      " |-- total_price: double (nullable = true)\n",
      " |-- room: integer (nullable = true)\n",
      " |-- living: integer (nullable = true)\n",
      " |-- bath: integer (nullable = true)\n",
      "\n"
     ]
    }
   ],
   "source": [
    "df = df.drop('district','avg','style','address')\n",
    "df.printSchema()"
   ]
  },
  {
   "cell_type": "code",
   "execution_count": 19,
   "id": "7605c245-0688-46e9-830c-2963f5b30a6b",
   "metadata": {},
   "outputs": [],
   "source": [
    "# 移除total_price特徵\n",
    "feature_list = []\n",
    "for col in df.columns:\n",
    "    if col == 'total_price':\n",
    "        continue\n",
    "    else:\n",
    "        feature_list.append(col)\n",
    "\n",
    "# make X from feature_list which is aka features in spark\n",
    "assembler = VectorAssembler(inputCols=feature_list, outputCol=\"features\")"
   ]
  },
  {
   "cell_type": "code",
   "execution_count": 20,
   "id": "75758fa0-f40e-4bfd-8b7e-870d5477f30d",
   "metadata": {},
   "outputs": [],
   "source": [
    "# make y & X\n",
    "rf = RandomForestRegressor(labelCol=\"total_price\", featuresCol=\"features\")"
   ]
  },
  {
   "cell_type": "code",
   "execution_count": 21,
   "id": "49b25cd2-edc2-4ea9-b311-904e3cfcbf13",
   "metadata": {},
   "outputs": [],
   "source": [
    "pipeline = Pipeline(stages=[assembler, rf])"
   ]
  },
  {
   "cell_type": "code",
   "execution_count": 32,
   "id": "fcfa92aa-3b9b-4b33-9a7e-77841e353f1c",
   "metadata": {},
   "outputs": [],
   "source": [
    "# 答案\n",
    "rfevaluator = RegressionEvaluator(labelCol=\"total_price\", predictionCol=\"prediction\")\n",
    "\n",
    "# 超參數\n",
    "rfparamGrid = (ParamGridBuilder()             \n",
    "               .addGrid(rf.maxDepth, [5, 7, 9])             \n",
    "               .addGrid(rf.maxBins, [5, 7, 9])             \n",
    "               .addGrid(rf.numTrees, [75, 100, 125])\n",
    "               .build())\n",
    "\n",
    "# Kfold\n",
    "rfcv = CrossValidator(estimator = pipeline,\n",
    "                      estimatorParamMaps = rfparamGrid,\n",
    "                      evaluator = rfevaluator,\n",
    "                      numFolds = 5)"
   ]
  },
  {
   "cell_type": "code",
   "execution_count": 33,
   "id": "5fb1af04-44bc-4a6a-b0ee-d64f949f9e79",
   "metadata": {},
   "outputs": [],
   "source": [
    "(trainingData, testData) = df.randomSplit([0.8, 0.2])"
   ]
  },
  {
   "cell_type": "code",
   "execution_count": 34,
   "id": "2b108ae0-ca2f-4411-a972-31573b1c8a88",
   "metadata": {
    "collapsed": true,
    "jupyter": {
     "outputs_hidden": true
    },
    "tags": []
   },
   "outputs": [
    {
     "name": "stderr",
     "output_type": "stream",
     "text": [
      "2022-05-31 19:55:47,854 WARN scheduler.DAGScheduler: Broadcasting large task binary with size 1488.1 KiB\n",
      "2022-05-31 19:56:10,154 WARN scheduler.DAGScheduler: Broadcasting large task binary with size 1023.4 KiB\n",
      "2022-05-31 19:56:15,559 WARN scheduler.DAGScheduler: Broadcasting large task binary with size 1956.3 KiB\n",
      "2022-05-31 19:56:43,076 WARN scheduler.DAGScheduler: Broadcasting large task binary with size 1256.3 KiB\n",
      "2022-05-31 19:56:49,537 WARN scheduler.DAGScheduler: Broadcasting large task binary with size 2.4 MiB\n",
      "2022-05-31 19:57:15,802 WARN scheduler.DAGScheduler: Broadcasting large task binary with size 1476.1 KiB\n",
      "2022-05-31 19:57:38,138 WARN scheduler.DAGScheduler: Broadcasting large task binary with size 1022.2 KiB\n",
      "2022-05-31 19:57:43,388 WARN scheduler.DAGScheduler: Broadcasting large task binary with size 1948.4 KiB\n",
      "2022-05-31 19:58:11,065 WARN scheduler.DAGScheduler: Broadcasting large task binary with size 1255.3 KiB\n",
      "2022-05-31 19:58:17,760 WARN scheduler.DAGScheduler: Broadcasting large task binary with size 2.4 MiB\n",
      "2022-05-31 19:58:44,303 WARN scheduler.DAGScheduler: Broadcasting large task binary with size 1465.8 KiB\n",
      "2022-05-31 19:59:06,686 WARN scheduler.DAGScheduler: Broadcasting large task binary with size 1022.0 KiB\n",
      "2022-05-31 19:59:11,907 WARN scheduler.DAGScheduler: Broadcasting large task binary with size 1940.8 KiB\n",
      "2022-05-31 19:59:39,828 WARN scheduler.DAGScheduler: Broadcasting large task binary with size 1252.7 KiB\n",
      "2022-05-31 19:59:46,238 WARN scheduler.DAGScheduler: Broadcasting large task binary with size 2.3 MiB\n",
      "2022-05-31 20:00:12,703 WARN scheduler.DAGScheduler: Broadcasting large task binary with size 1488.1 KiB\n",
      "2022-05-31 20:00:17,490 WARN scheduler.DAGScheduler: Broadcasting large task binary with size 2.8 MiB\n",
      "2022-05-31 20:00:23,685 WARN scheduler.DAGScheduler: Broadcasting large task binary with size 5.3 MiB\n",
      "2022-05-31 20:00:30,048 WARN scheduler.DAGScheduler: Broadcasting large task binary with size 1595.8 KiB\n",
      "2022-05-31 20:00:49,279 WARN scheduler.DAGScheduler: Broadcasting large task binary with size 1023.5 KiB\n",
      "2022-05-31 20:00:54,458 WARN scheduler.DAGScheduler: Broadcasting large task binary with size 1955.7 KiB\n",
      "2022-05-31 20:01:00,852 WARN scheduler.DAGScheduler: Broadcasting large task binary with size 3.7 MiB\n",
      "2022-05-31 20:01:07,794 WARN scheduler.DAGScheduler: Broadcasting large task binary with size 1136.0 KiB\n",
      "2022-05-31 20:01:09,376 WARN scheduler.DAGScheduler: Broadcasting large task binary with size 7.1 MiB\n",
      "2022-05-31 20:01:19,395 WARN scheduler.DAGScheduler: Broadcasting large task binary with size 2.1 MiB\n",
      "2022-05-31 20:01:43,598 WARN scheduler.DAGScheduler: Broadcasting large task binary with size 1256.5 KiB\n",
      "2022-05-31 20:01:50,067 WARN scheduler.DAGScheduler: Broadcasting large task binary with size 2.4 MiB\n",
      "2022-05-31 20:01:58,521 WARN scheduler.DAGScheduler: Broadcasting large task binary with size 4.6 MiB\n",
      "2022-05-31 20:02:07,923 WARN scheduler.DAGScheduler: Broadcasting large task binary with size 1409.3 KiB\n",
      "2022-05-31 20:02:09,912 WARN scheduler.DAGScheduler: Broadcasting large task binary with size 8.7 MiB\n",
      "2022-05-31 20:02:21,563 WARN scheduler.DAGScheduler: Broadcasting large task binary with size 2.6 MiB\n",
      "2022-05-31 20:02:44,140 WARN scheduler.DAGScheduler: Broadcasting large task binary with size 1476.1 KiB\n",
      "2022-05-31 20:02:48,939 WARN scheduler.DAGScheduler: Broadcasting large task binary with size 2.8 MiB\n",
      "2022-05-31 20:02:55,157 WARN scheduler.DAGScheduler: Broadcasting large task binary with size 5.2 MiB\n",
      "2022-05-31 20:03:01,372 WARN scheduler.DAGScheduler: Broadcasting large task binary with size 1549.5 KiB\n",
      "2022-05-31 20:03:21,099 WARN scheduler.DAGScheduler: Broadcasting large task binary with size 1022.2 KiB\n",
      "2022-05-31 20:03:26,229 WARN scheduler.DAGScheduler: Broadcasting large task binary with size 1949.3 KiB\n",
      "2022-05-31 20:03:32,621 WARN scheduler.DAGScheduler: Broadcasting large task binary with size 3.7 MiB\n",
      "2022-05-31 20:03:39,503 WARN scheduler.DAGScheduler: Broadcasting large task binary with size 1117.7 KiB\n",
      "2022-05-31 20:03:41,169 WARN scheduler.DAGScheduler: Broadcasting large task binary with size 7.0 MiB\n",
      "2022-05-31 20:03:50,376 WARN scheduler.DAGScheduler: Broadcasting large task binary with size 2.0 MiB\n",
      "2022-05-31 20:04:14,485 WARN scheduler.DAGScheduler: Broadcasting large task binary with size 1255.1 KiB\n",
      "2022-05-31 20:04:21,179 WARN scheduler.DAGScheduler: Broadcasting large task binary with size 2.3 MiB\n",
      "2022-05-31 20:04:29,924 WARN scheduler.DAGScheduler: Broadcasting large task binary with size 4.6 MiB\n",
      "2022-05-31 20:04:38,656 WARN scheduler.DAGScheduler: Broadcasting large task binary with size 1385.1 KiB\n",
      "2022-05-31 20:04:41,176 WARN scheduler.DAGScheduler: Broadcasting large task binary with size 8.7 MiB\n",
      "2022-05-31 20:04:51,192 WARN scheduler.DAGScheduler: Broadcasting large task binary with size 2.5 MiB\n",
      "2022-05-31 20:05:13,506 WARN scheduler.DAGScheduler: Broadcasting large task binary with size 1465.8 KiB\n",
      "2022-05-31 20:05:18,306 WARN scheduler.DAGScheduler: Broadcasting large task binary with size 2.7 MiB\n",
      "2022-05-31 20:05:24,464 WARN scheduler.DAGScheduler: Broadcasting large task binary with size 5.1 MiB\n",
      "2022-05-31 20:05:30,704 WARN scheduler.DAGScheduler: Broadcasting large task binary with size 1500.5 KiB\n",
      "2022-05-31 20:05:50,115 WARN scheduler.DAGScheduler: Broadcasting large task binary with size 1022.0 KiB\n",
      "2022-05-31 20:05:55,295 WARN scheduler.DAGScheduler: Broadcasting large task binary with size 1940.8 KiB\n",
      "2022-05-31 20:06:01,825 WARN scheduler.DAGScheduler: Broadcasting large task binary with size 3.6 MiB\n",
      "2022-05-31 20:06:08,666 WARN scheduler.DAGScheduler: Broadcasting large task binary with size 1091.1 KiB\n",
      "2022-05-31 20:06:10,153 WARN scheduler.DAGScheduler: Broadcasting large task binary with size 6.9 MiB\n",
      "2022-05-31 20:06:18,566 WARN scheduler.DAGScheduler: Broadcasting large task binary with size 2015.1 KiB\n",
      "2022-05-31 20:06:43,485 WARN scheduler.DAGScheduler: Broadcasting large task binary with size 1253.0 KiB\n",
      "2022-05-31 20:06:50,224 WARN scheduler.DAGScheduler: Broadcasting large task binary with size 2.3 MiB\n",
      "2022-05-31 20:06:58,881 WARN scheduler.DAGScheduler: Broadcasting large task binary with size 4.5 MiB\n",
      "2022-05-31 20:07:08,973 WARN scheduler.DAGScheduler: Broadcasting large task binary with size 1354.4 KiB\n",
      "2022-05-31 20:07:11,373 WARN scheduler.DAGScheduler: Broadcasting large task binary with size 8.5 MiB\n",
      "2022-05-31 20:07:21,673 WARN scheduler.DAGScheduler: Broadcasting large task binary with size 2.5 MiB\n",
      "2022-05-31 20:10:22,996 WARN scheduler.DAGScheduler: Broadcasting large task binary with size 1494.4 KiB\n",
      "2022-05-31 20:10:45,416 WARN scheduler.DAGScheduler: Broadcasting large task binary with size 1023.1 KiB\n",
      "2022-05-31 20:10:50,715 WARN scheduler.DAGScheduler: Broadcasting large task binary with size 1954.5 KiB\n",
      "2022-05-31 20:11:18,716 WARN scheduler.DAGScheduler: Broadcasting large task binary with size 1252.7 KiB\n",
      "2022-05-31 20:11:25,427 WARN scheduler.DAGScheduler: Broadcasting large task binary with size 2.4 MiB\n",
      "2022-05-31 20:11:52,710 WARN scheduler.DAGScheduler: Broadcasting large task binary with size 1487.5 KiB\n",
      "2022-05-31 20:12:15,047 WARN scheduler.DAGScheduler: Broadcasting large task binary with size 1016.8 KiB\n",
      "2022-05-31 20:12:20,347 WARN scheduler.DAGScheduler: Broadcasting large task binary with size 1941.1 KiB\n",
      "2022-05-31 20:12:47,998 WARN scheduler.DAGScheduler: Broadcasting large task binary with size 1251.6 KiB\n",
      "2022-05-31 20:12:54,562 WARN scheduler.DAGScheduler: Broadcasting large task binary with size 2.3 MiB\n",
      "2022-05-31 20:13:20,873 WARN scheduler.DAGScheduler: Broadcasting large task binary with size 1480.3 KiB\n",
      "2022-05-31 20:13:43,495 WARN scheduler.DAGScheduler: Broadcasting large task binary with size 1016.0 KiB\n",
      "2022-05-31 20:13:48,723 WARN scheduler.DAGScheduler: Broadcasting large task binary with size 1928.9 KiB\n",
      "2022-05-31 20:14:16,969 WARN scheduler.DAGScheduler: Broadcasting large task binary with size 1249.3 KiB\n",
      "2022-05-31 20:14:23,526 WARN scheduler.DAGScheduler: Broadcasting large task binary with size 2.3 MiB\n",
      "2022-05-31 20:14:49,723 WARN scheduler.DAGScheduler: Broadcasting large task binary with size 1494.4 KiB\n",
      "2022-05-31 20:14:54,471 WARN scheduler.DAGScheduler: Broadcasting large task binary with size 2.8 MiB\n",
      "2022-05-31 20:15:00,550 WARN scheduler.DAGScheduler: Broadcasting large task binary with size 5.4 MiB\n",
      "2022-05-31 20:15:06,908 WARN scheduler.DAGScheduler: Broadcasting large task binary with size 1612.5 KiB\n",
      "2022-05-31 20:15:26,479 WARN scheduler.DAGScheduler: Broadcasting large task binary with size 1023.1 KiB\n",
      "2022-05-31 20:15:31,746 WARN scheduler.DAGScheduler: Broadcasting large task binary with size 1954.3 KiB\n",
      "2022-05-31 20:15:38,141 WARN scheduler.DAGScheduler: Broadcasting large task binary with size 3.7 MiB\n",
      "2022-05-31 20:15:45,151 WARN scheduler.DAGScheduler: Broadcasting large task binary with size 1135.3 KiB\n",
      "2022-05-31 20:15:46,805 WARN scheduler.DAGScheduler: Broadcasting large task binary with size 7.1 MiB\n",
      "2022-05-31 20:15:55,120 WARN scheduler.DAGScheduler: Broadcasting large task binary with size 2.1 MiB\n",
      "2022-05-31 20:16:19,786 WARN scheduler.DAGScheduler: Broadcasting large task binary with size 1252.7 KiB\n",
      "2022-05-31 20:16:26,367 WARN scheduler.DAGScheduler: Broadcasting large task binary with size 2.4 MiB\n",
      "2022-05-31 20:16:34,697 WARN scheduler.DAGScheduler: Broadcasting large task binary with size 4.6 MiB\n",
      "2022-05-31 20:16:43,458 WARN scheduler.DAGScheduler: Broadcasting large task binary with size 1414.1 KiB\n",
      "2022-05-31 20:16:45,450 WARN scheduler.DAGScheduler: Broadcasting large task binary with size 8.8 MiB\n",
      "2022-05-31 20:16:55,873 WARN scheduler.DAGScheduler: Broadcasting large task binary with size 2.6 MiB\n",
      "2022-05-31 20:17:17,348 WARN scheduler.DAGScheduler: Broadcasting large task binary with size 1487.5 KiB\n",
      "2022-05-31 20:17:22,251 WARN scheduler.DAGScheduler: Broadcasting large task binary with size 2.8 MiB\n",
      "2022-05-31 20:17:28,286 WARN scheduler.DAGScheduler: Broadcasting large task binary with size 5.3 MiB\n",
      "2022-05-31 20:17:34,755 WARN scheduler.DAGScheduler: Broadcasting large task binary with size 1594.1 KiB\n",
      "2022-05-31 20:17:54,257 WARN scheduler.DAGScheduler: Broadcasting large task binary with size 1016.7 KiB\n",
      "2022-05-31 20:17:59,478 WARN scheduler.DAGScheduler: Broadcasting large task binary with size 1941.2 KiB\n",
      "2022-05-31 20:18:06,046 WARN scheduler.DAGScheduler: Broadcasting large task binary with size 3.7 MiB\n",
      "2022-05-31 20:18:13,124 WARN scheduler.DAGScheduler: Broadcasting large task binary with size 1127.5 KiB\n",
      "2022-05-31 20:18:14,574 WARN scheduler.DAGScheduler: Broadcasting large task binary with size 7.0 MiB\n",
      "2022-05-31 20:18:23,561 WARN scheduler.DAGScheduler: Broadcasting large task binary with size 2.1 MiB\n",
      "2022-05-31 20:18:47,606 WARN scheduler.DAGScheduler: Broadcasting large task binary with size 1251.6 KiB\n",
      "2022-05-31 20:18:54,061 WARN scheduler.DAGScheduler: Broadcasting large task binary with size 2.3 MiB\n",
      "2022-05-31 20:19:02,520 WARN scheduler.DAGScheduler: Broadcasting large task binary with size 4.6 MiB\n",
      "2022-05-31 20:19:12,628 WARN scheduler.DAGScheduler: Broadcasting large task binary with size 1398.5 KiB\n",
      "2022-05-31 20:19:15,112 WARN scheduler.DAGScheduler: Broadcasting large task binary with size 8.7 MiB\n",
      "2022-05-31 20:19:24,751 WARN scheduler.DAGScheduler: Broadcasting large task binary with size 2.5 MiB\n",
      "2022-05-31 20:19:47,007 WARN scheduler.DAGScheduler: Broadcasting large task binary with size 1480.2 KiB\n",
      "2022-05-31 20:19:51,978 WARN scheduler.DAGScheduler: Broadcasting large task binary with size 2.8 MiB\n",
      "2022-05-31 20:19:58,230 WARN scheduler.DAGScheduler: Broadcasting large task binary with size 5.2 MiB\n",
      "2022-05-31 20:20:04,587 WARN scheduler.DAGScheduler: Broadcasting large task binary with size 1546.0 KiB\n",
      "2022-05-31 20:20:24,224 WARN scheduler.DAGScheduler: Broadcasting large task binary with size 1016.0 KiB\n",
      "2022-05-31 20:20:29,361 WARN scheduler.DAGScheduler: Broadcasting large task binary with size 1929.2 KiB\n",
      "2022-05-31 20:20:35,822 WARN scheduler.DAGScheduler: Broadcasting large task binary with size 3.6 MiB\n",
      "2022-05-31 20:20:43,021 WARN scheduler.DAGScheduler: Broadcasting large task binary with size 1097.5 KiB\n",
      "2022-05-31 20:20:44,890 WARN scheduler.DAGScheduler: Broadcasting large task binary with size 6.9 MiB\n",
      "2022-05-31 20:20:54,572 WARN scheduler.DAGScheduler: Broadcasting large task binary with size 2037.0 KiB\n",
      "2022-05-31 20:21:19,341 WARN scheduler.DAGScheduler: Broadcasting large task binary with size 1249.3 KiB\n",
      "2022-05-31 20:21:26,091 WARN scheduler.DAGScheduler: Broadcasting large task binary with size 2.3 MiB\n",
      "2022-05-31 20:21:34,288 WARN scheduler.DAGScheduler: Broadcasting large task binary with size 4.5 MiB\n",
      "2022-05-31 20:21:43,352 WARN scheduler.DAGScheduler: Broadcasting large task binary with size 1379.0 KiB\n",
      "2022-05-31 20:21:45,685 WARN scheduler.DAGScheduler: Broadcasting large task binary with size 8.6 MiB\n",
      "2022-05-31 20:21:55,863 WARN scheduler.DAGScheduler: Broadcasting large task binary with size 2.5 MiB\n",
      "2022-05-31 20:24:57,079 WARN scheduler.DAGScheduler: Broadcasting large task binary with size 1494.5 KiB\n",
      "2022-05-31 20:25:19,220 WARN scheduler.DAGScheduler: Broadcasting large task binary with size 1026.3 KiB\n",
      "2022-05-31 20:25:24,399 WARN scheduler.DAGScheduler: Broadcasting large task binary with size 1967.0 KiB\n",
      "2022-05-31 20:25:52,100 WARN scheduler.DAGScheduler: Broadcasting large task binary with size 1258.5 KiB\n",
      "2022-05-31 20:25:58,700 WARN scheduler.DAGScheduler: Broadcasting large task binary with size 2.4 MiB\n",
      "2022-05-31 20:26:25,204 WARN scheduler.DAGScheduler: Broadcasting large task binary with size 1482.2 KiB\n",
      "2022-05-31 20:26:47,180 WARN scheduler.DAGScheduler: Broadcasting large task binary with size 1023.4 KiB\n",
      "2022-05-31 20:26:52,458 WARN scheduler.DAGScheduler: Broadcasting large task binary with size 1955.2 KiB\n",
      "2022-05-31 20:27:20,512 WARN scheduler.DAGScheduler: Broadcasting large task binary with size 1254.0 KiB\n",
      "2022-05-31 20:27:27,112 WARN scheduler.DAGScheduler: Broadcasting large task binary with size 2.4 MiB\n",
      "2022-05-31 20:27:53,700 WARN scheduler.DAGScheduler: Broadcasting large task binary with size 1442.2 KiB\n",
      "2022-05-31 20:28:16,174 WARN scheduler.DAGScheduler: Broadcasting large task binary with size 1010.3 KiB\n",
      "2022-05-31 20:28:21,694 WARN scheduler.DAGScheduler: Broadcasting large task binary with size 1910.9 KiB\n",
      "2022-05-31 20:28:49,906 WARN scheduler.DAGScheduler: Broadcasting large task binary with size 1239.2 KiB\n",
      "2022-05-31 20:28:56,470 WARN scheduler.DAGScheduler: Broadcasting large task binary with size 2.3 MiB\n",
      "2022-05-31 20:29:22,486 WARN scheduler.DAGScheduler: Broadcasting large task binary with size 1494.5 KiB\n",
      "2022-05-31 20:29:27,241 WARN scheduler.DAGScheduler: Broadcasting large task binary with size 2.8 MiB\n",
      "2022-05-31 20:29:33,427 WARN scheduler.DAGScheduler: Broadcasting large task binary with size 5.4 MiB\n",
      "2022-05-31 20:29:39,817 WARN scheduler.DAGScheduler: Broadcasting large task binary with size 1607.8 KiB\n",
      "2022-05-31 20:30:00,142 WARN scheduler.DAGScheduler: Broadcasting large task binary with size 1026.3 KiB\n",
      "2022-05-31 20:30:05,445 WARN scheduler.DAGScheduler: Broadcasting large task binary with size 1967.0 KiB\n",
      "2022-05-31 20:30:12,006 WARN scheduler.DAGScheduler: Broadcasting large task binary with size 3.7 MiB\n",
      "2022-05-31 20:30:19,145 WARN scheduler.DAGScheduler: Broadcasting large task binary with size 1147.2 KiB\n",
      "2022-05-31 20:30:20,669 WARN scheduler.DAGScheduler: Broadcasting large task binary with size 7.1 MiB\n",
      "2022-05-31 20:30:29,097 WARN scheduler.DAGScheduler: Broadcasting large task binary with size 2.1 MiB\n",
      "2022-05-31 20:30:53,493 WARN scheduler.DAGScheduler: Broadcasting large task binary with size 1258.6 KiB\n",
      "2022-05-31 20:31:00,078 WARN scheduler.DAGScheduler: Broadcasting large task binary with size 2.4 MiB\n",
      "2022-05-31 20:31:09,172 WARN scheduler.DAGScheduler: Broadcasting large task binary with size 4.6 MiB\n",
      "2022-05-31 20:31:17,695 WARN scheduler.DAGScheduler: Broadcasting large task binary with size 1429.3 KiB\n",
      "2022-05-31 20:31:19,698 WARN scheduler.DAGScheduler: Broadcasting large task binary with size 8.9 MiB\n",
      "2022-05-31 20:31:29,781 WARN scheduler.DAGScheduler: Broadcasting large task binary with size 2.6 MiB\n",
      "2022-05-31 20:31:51,490 WARN scheduler.DAGScheduler: Broadcasting large task binary with size 1482.3 KiB\n",
      "2022-05-31 20:31:56,383 WARN scheduler.DAGScheduler: Broadcasting large task binary with size 2.8 MiB\n",
      "2022-05-31 20:32:02,603 WARN scheduler.DAGScheduler: Broadcasting large task binary with size 5.3 MiB\n",
      "2022-05-31 20:32:08,966 WARN scheduler.DAGScheduler: Broadcasting large task binary with size 1566.3 KiB\n",
      "2022-05-31 20:32:28,613 WARN scheduler.DAGScheduler: Broadcasting large task binary with size 1023.4 KiB\n",
      "2022-05-31 20:32:33,790 WARN scheduler.DAGScheduler: Broadcasting large task binary with size 1955.1 KiB\n",
      "2022-05-31 20:32:40,237 WARN scheduler.DAGScheduler: Broadcasting large task binary with size 3.7 MiB\n",
      "2022-05-31 20:32:47,857 WARN scheduler.DAGScheduler: Broadcasting large task binary with size 1128.4 KiB\n",
      "2022-05-31 20:32:49,947 WARN scheduler.DAGScheduler: Broadcasting large task binary with size 7.0 MiB\n",
      "2022-05-31 20:32:58,853 WARN scheduler.DAGScheduler: Broadcasting large task binary with size 2.0 MiB\n",
      "2022-05-31 20:33:23,407 WARN scheduler.DAGScheduler: Broadcasting large task binary with size 1254.0 KiB\n",
      "2022-05-31 20:33:30,051 WARN scheduler.DAGScheduler: Broadcasting large task binary with size 2.4 MiB\n",
      "2022-05-31 20:33:38,400 WARN scheduler.DAGScheduler: Broadcasting large task binary with size 4.6 MiB\n",
      "2022-05-31 20:33:47,017 WARN scheduler.DAGScheduler: Broadcasting large task binary with size 1391.8 KiB\n",
      "2022-05-31 20:33:48,952 WARN scheduler.DAGScheduler: Broadcasting large task binary with size 8.7 MiB\n",
      "2022-05-31 20:33:58,509 WARN scheduler.DAGScheduler: Broadcasting large task binary with size 2.5 MiB\n",
      "2022-05-31 20:34:21,085 WARN scheduler.DAGScheduler: Broadcasting large task binary with size 1442.1 KiB\n",
      "2022-05-31 20:34:25,957 WARN scheduler.DAGScheduler: Broadcasting large task binary with size 2.7 MiB\n",
      "2022-05-31 20:34:32,420 WARN scheduler.DAGScheduler: Broadcasting large task binary with size 5.0 MiB\n",
      "2022-05-31 20:34:38,665 WARN scheduler.DAGScheduler: Broadcasting large task binary with size 1483.5 KiB\n",
      "2022-05-31 20:34:58,180 WARN scheduler.DAGScheduler: Broadcasting large task binary with size 1010.3 KiB\n",
      "2022-05-31 20:35:03,405 WARN scheduler.DAGScheduler: Broadcasting large task binary with size 1910.9 KiB\n",
      "2022-05-31 20:35:09,835 WARN scheduler.DAGScheduler: Broadcasting large task binary with size 3.6 MiB\n",
      "2022-05-31 20:35:16,805 WARN scheduler.DAGScheduler: Broadcasting large task binary with size 1072.2 KiB\n",
      "2022-05-31 20:35:18,316 WARN scheduler.DAGScheduler: Broadcasting large task binary with size 6.8 MiB\n",
      "2022-05-31 20:35:26,149 WARN scheduler.DAGScheduler: Broadcasting large task binary with size 1994.4 KiB\n",
      "2022-05-31 20:35:50,407 WARN scheduler.DAGScheduler: Broadcasting large task binary with size 1239.2 KiB\n",
      "2022-05-31 20:35:57,115 WARN scheduler.DAGScheduler: Broadcasting large task binary with size 2.3 MiB\n",
      "2022-05-31 20:36:05,815 WARN scheduler.DAGScheduler: Broadcasting large task binary with size 4.4 MiB\n",
      "2022-05-31 20:36:14,288 WARN scheduler.DAGScheduler: Broadcasting large task binary with size 1335.5 KiB\n",
      "2022-05-31 20:36:16,391 WARN scheduler.DAGScheduler: Broadcasting large task binary with size 8.4 MiB\n",
      "2022-05-31 20:36:26,538 WARN scheduler.DAGScheduler: Broadcasting large task binary with size 2.4 MiB\n",
      "2022-05-31 20:39:28,722 WARN scheduler.DAGScheduler: Broadcasting large task binary with size 1494.3 KiB\n",
      "2022-05-31 20:39:51,057 WARN scheduler.DAGScheduler: Broadcasting large task binary with size 1021.9 KiB\n",
      "2022-05-31 20:39:56,370 WARN scheduler.DAGScheduler: Broadcasting large task binary with size 1954.6 KiB\n",
      "2022-05-31 20:40:23,939 WARN scheduler.DAGScheduler: Broadcasting large task binary with size 1253.5 KiB\n",
      "2022-05-31 20:40:30,454 WARN scheduler.DAGScheduler: Broadcasting large task binary with size 2.4 MiB\n",
      "2022-05-31 20:40:56,901 WARN scheduler.DAGScheduler: Broadcasting large task binary with size 1488.2 KiB\n",
      "2022-05-31 20:41:19,439 WARN scheduler.DAGScheduler: Broadcasting large task binary with size 1019.7 KiB\n",
      "2022-05-31 20:41:24,887 WARN scheduler.DAGScheduler: Broadcasting large task binary with size 1943.3 KiB\n",
      "2022-05-31 20:41:52,441 WARN scheduler.DAGScheduler: Broadcasting large task binary with size 1249.4 KiB\n",
      "2022-05-31 20:41:58,864 WARN scheduler.DAGScheduler: Broadcasting large task binary with size 2.3 MiB\n",
      "2022-05-31 20:42:25,229 WARN scheduler.DAGScheduler: Broadcasting large task binary with size 1479.3 KiB\n",
      "2022-05-31 20:42:47,931 WARN scheduler.DAGScheduler: Broadcasting large task binary with size 1016.2 KiB\n",
      "2022-05-31 20:42:53,000 WARN scheduler.DAGScheduler: Broadcasting large task binary with size 1927.8 KiB\n",
      "2022-05-31 20:43:20,694 WARN scheduler.DAGScheduler: Broadcasting large task binary with size 1246.1 KiB\n",
      "2022-05-31 20:43:27,154 WARN scheduler.DAGScheduler: Broadcasting large task binary with size 2.3 MiB\n",
      "2022-05-31 20:43:53,381 WARN scheduler.DAGScheduler: Broadcasting large task binary with size 1494.7 KiB\n",
      "2022-05-31 20:43:58,274 WARN scheduler.DAGScheduler: Broadcasting large task binary with size 2.8 MiB\n",
      "2022-05-31 20:44:04,637 WARN scheduler.DAGScheduler: Broadcasting large task binary with size 5.4 MiB\n",
      "2022-05-31 20:44:11,351 WARN scheduler.DAGScheduler: Broadcasting large task binary with size 1599.3 KiB\n",
      "2022-05-31 20:44:31,021 WARN scheduler.DAGScheduler: Broadcasting large task binary with size 1021.9 KiB\n",
      "2022-05-31 20:44:36,270 WARN scheduler.DAGScheduler: Broadcasting large task binary with size 1954.7 KiB\n",
      "2022-05-31 20:44:42,814 WARN scheduler.DAGScheduler: Broadcasting large task binary with size 3.7 MiB\n",
      "2022-05-31 20:44:49,695 WARN scheduler.DAGScheduler: Broadcasting large task binary with size 1139.1 KiB\n",
      "2022-05-31 20:44:51,035 WARN scheduler.DAGScheduler: Broadcasting large task binary with size 7.1 MiB\n",
      "2022-05-31 20:44:59,824 WARN scheduler.DAGScheduler: Broadcasting large task binary with size 2.1 MiB\n",
      "2022-05-31 20:45:24,291 WARN scheduler.DAGScheduler: Broadcasting large task binary with size 1253.5 KiB\n",
      "2022-05-31 20:45:30,789 WARN scheduler.DAGScheduler: Broadcasting large task binary with size 2.4 MiB\n",
      "2022-05-31 20:45:38,822 WARN scheduler.DAGScheduler: Broadcasting large task binary with size 4.6 MiB\n",
      "2022-05-31 20:45:47,530 WARN scheduler.DAGScheduler: Broadcasting large task binary with size 1407.3 KiB\n",
      "2022-05-31 20:45:49,604 WARN scheduler.DAGScheduler: Broadcasting large task binary with size 8.7 MiB\n",
      "2022-05-31 20:45:59,674 WARN scheduler.DAGScheduler: Broadcasting large task binary with size 2.6 MiB\n",
      "2022-05-31 20:46:21,906 WARN scheduler.DAGScheduler: Broadcasting large task binary with size 1487.2 KiB\n",
      "2022-05-31 20:46:26,915 WARN scheduler.DAGScheduler: Broadcasting large task binary with size 2.8 MiB\n",
      "2022-05-31 20:46:33,522 WARN scheduler.DAGScheduler: Broadcasting large task binary with size 5.3 MiB\n",
      "2022-05-31 20:46:40,489 WARN scheduler.DAGScheduler: Broadcasting large task binary with size 1572.4 KiB\n",
      "2022-05-31 20:47:00,292 WARN scheduler.DAGScheduler: Broadcasting large task binary with size 1019.7 KiB\n",
      "2022-05-31 20:47:05,670 WARN scheduler.DAGScheduler: Broadcasting large task binary with size 1943.1 KiB\n",
      "2022-05-31 20:47:12,265 WARN scheduler.DAGScheduler: Broadcasting large task binary with size 3.7 MiB\n",
      "2022-05-31 20:47:19,109 WARN scheduler.DAGScheduler: Broadcasting large task binary with size 1117.4 KiB\n",
      "2022-05-31 20:47:20,597 WARN scheduler.DAGScheduler: Broadcasting large task binary with size 7.0 MiB\n",
      "2022-05-31 20:47:29,880 WARN scheduler.DAGScheduler: Broadcasting large task binary with size 2.0 MiB\n",
      "2022-05-31 20:47:53,707 WARN scheduler.DAGScheduler: Broadcasting large task binary with size 1249.4 KiB\n",
      "2022-05-31 20:48:00,122 WARN scheduler.DAGScheduler: Broadcasting large task binary with size 2.3 MiB\n",
      "2022-05-31 20:48:08,227 WARN scheduler.DAGScheduler: Broadcasting large task binary with size 4.5 MiB\n",
      "2022-05-31 20:48:16,210 WARN scheduler.DAGScheduler: Broadcasting large task binary with size 1382.4 KiB\n",
      "2022-05-31 20:48:18,180 WARN scheduler.DAGScheduler: Broadcasting large task binary with size 8.6 MiB\n",
      "2022-05-31 20:48:27,612 WARN scheduler.DAGScheduler: Broadcasting large task binary with size 2.5 MiB\n",
      "2022-05-31 20:48:49,463 WARN scheduler.DAGScheduler: Broadcasting large task binary with size 1475.3 KiB\n",
      "2022-05-31 20:48:54,253 WARN scheduler.DAGScheduler: Broadcasting large task binary with size 2.8 MiB\n",
      "2022-05-31 20:49:00,658 WARN scheduler.DAGScheduler: Broadcasting large task binary with size 5.2 MiB\n",
      "2022-05-31 20:49:07,106 WARN scheduler.DAGScheduler: Broadcasting large task binary with size 1530.5 KiB\n",
      "2022-05-31 20:49:26,850 WARN scheduler.DAGScheduler: Broadcasting large task binary with size 1016.2 KiB\n",
      "2022-05-31 20:49:32,185 WARN scheduler.DAGScheduler: Broadcasting large task binary with size 1928.0 KiB\n",
      "2022-05-31 20:49:38,998 WARN scheduler.DAGScheduler: Broadcasting large task binary with size 3.6 MiB\n",
      "2022-05-31 20:49:45,828 WARN scheduler.DAGScheduler: Broadcasting large task binary with size 1093.3 KiB\n",
      "2022-05-31 20:49:47,456 WARN scheduler.DAGScheduler: Broadcasting large task binary with size 6.9 MiB\n",
      "2022-05-31 20:49:56,118 WARN scheduler.DAGScheduler: Broadcasting large task binary with size 2033.0 KiB\n",
      "2022-05-31 20:50:20,630 WARN scheduler.DAGScheduler: Broadcasting large task binary with size 1246.9 KiB\n",
      "2022-05-31 20:50:27,434 WARN scheduler.DAGScheduler: Broadcasting large task binary with size 2.3 MiB\n",
      "2022-05-31 20:50:35,507 WARN scheduler.DAGScheduler: Broadcasting large task binary with size 4.5 MiB\n",
      "2022-05-31 20:50:44,015 WARN scheduler.DAGScheduler: Broadcasting large task binary with size 1358.9 KiB\n",
      "2022-05-31 20:50:46,417 WARN scheduler.DAGScheduler: Broadcasting large task binary with size 8.5 MiB\n",
      "2022-05-31 20:50:57,146 WARN scheduler.DAGScheduler: Broadcasting large task binary with size 2.5 MiB\n",
      "2022-05-31 20:53:56,647 WARN scheduler.DAGScheduler: Broadcasting large task binary with size 1495.9 KiB\n",
      "2022-05-31 20:54:18,719 WARN scheduler.DAGScheduler: Broadcasting large task binary with size 1025.3 KiB\n",
      "2022-05-31 20:54:23,703 WARN scheduler.DAGScheduler: Broadcasting large task binary with size 1967.5 KiB\n",
      "2022-05-31 20:54:50,896 WARN scheduler.DAGScheduler: Broadcasting large task binary with size 1258.5 KiB\n",
      "2022-05-31 20:54:57,346 WARN scheduler.DAGScheduler: Broadcasting large task binary with size 2.4 MiB\n",
      "2022-05-31 20:55:23,113 WARN scheduler.DAGScheduler: Broadcasting large task binary with size 1492.0 KiB\n",
      "2022-05-31 20:55:45,162 WARN scheduler.DAGScheduler: Broadcasting large task binary with size 1024.4 KiB\n",
      "2022-05-31 20:55:50,278 WARN scheduler.DAGScheduler: Broadcasting large task binary with size 1959.1 KiB\n",
      "2022-05-31 20:56:17,562 WARN scheduler.DAGScheduler: Broadcasting large task binary with size 1258.1 KiB\n",
      "2022-05-31 20:56:23,985 WARN scheduler.DAGScheduler: Broadcasting large task binary with size 2.4 MiB\n",
      "2022-05-31 20:56:50,340 WARN scheduler.DAGScheduler: Broadcasting large task binary with size 1470.1 KiB\n",
      "2022-05-31 20:57:12,929 WARN scheduler.DAGScheduler: Broadcasting large task binary with size 1019.1 KiB\n",
      "2022-05-31 20:57:18,039 WARN scheduler.DAGScheduler: Broadcasting large task binary with size 1935.4 KiB\n",
      "2022-05-31 20:57:45,221 WARN scheduler.DAGScheduler: Broadcasting large task binary with size 1254.3 KiB\n",
      "2022-05-31 20:57:51,651 WARN scheduler.DAGScheduler: Broadcasting large task binary with size 2.3 MiB\n",
      "2022-05-31 20:58:17,420 WARN scheduler.DAGScheduler: Broadcasting large task binary with size 1495.9 KiB\n",
      "2022-05-31 20:58:22,167 WARN scheduler.DAGScheduler: Broadcasting large task binary with size 2.8 MiB\n",
      "2022-05-31 20:58:28,219 WARN scheduler.DAGScheduler: Broadcasting large task binary with size 5.4 MiB\n",
      "2022-05-31 20:58:34,922 WARN scheduler.DAGScheduler: Broadcasting large task binary with size 1633.8 KiB\n",
      "2022-05-31 20:58:54,474 WARN scheduler.DAGScheduler: Broadcasting large task binary with size 1025.3 KiB\n",
      "2022-05-31 20:58:59,630 WARN scheduler.DAGScheduler: Broadcasting large task binary with size 1967.5 KiB\n",
      "2022-05-31 20:59:06,039 WARN scheduler.DAGScheduler: Broadcasting large task binary with size 3.8 MiB\n",
      "2022-05-31 20:59:13,000 WARN scheduler.DAGScheduler: Broadcasting large task binary with size 1156.0 KiB\n",
      "2022-05-31 20:59:14,585 WARN scheduler.DAGScheduler: Broadcasting large task binary with size 7.2 MiB\n",
      "2022-05-31 20:59:23,596 WARN scheduler.DAGScheduler: Broadcasting large task binary with size 2.1 MiB\n",
      "2022-05-31 20:59:47,095 WARN scheduler.DAGScheduler: Broadcasting large task binary with size 1258.5 KiB\n",
      "2022-05-31 20:59:53,579 WARN scheduler.DAGScheduler: Broadcasting large task binary with size 2.4 MiB\n",
      "2022-05-31 21:00:01,574 WARN scheduler.DAGScheduler: Broadcasting large task binary with size 4.7 MiB\n",
      "2022-05-31 21:00:10,565 WARN scheduler.DAGScheduler: Broadcasting large task binary with size 1438.7 KiB\n",
      "2022-05-31 21:00:12,920 WARN scheduler.DAGScheduler: Broadcasting large task binary with size 8.9 MiB\n",
      "2022-05-31 21:00:22,904 WARN scheduler.DAGScheduler: Broadcasting large task binary with size 2.6 MiB\n",
      "2022-05-31 21:00:44,000 WARN scheduler.DAGScheduler: Broadcasting large task binary with size 1492.0 KiB\n",
      "2022-05-31 21:00:48,800 WARN scheduler.DAGScheduler: Broadcasting large task binary with size 2.8 MiB\n",
      "2022-05-31 21:00:54,900 WARN scheduler.DAGScheduler: Broadcasting large task binary with size 5.4 MiB\n",
      "2022-05-31 21:01:01,082 WARN scheduler.DAGScheduler: Broadcasting large task binary with size 1617.8 KiB\n",
      "2022-05-31 21:01:20,320 WARN scheduler.DAGScheduler: Broadcasting large task binary with size 1024.4 KiB\n",
      "2022-05-31 21:01:25,557 WARN scheduler.DAGScheduler: Broadcasting large task binary with size 1958.6 KiB\n",
      "2022-05-31 21:01:31,905 WARN scheduler.DAGScheduler: Broadcasting large task binary with size 3.7 MiB\n",
      "2022-05-31 21:01:38,704 WARN scheduler.DAGScheduler: Broadcasting large task binary with size 1137.1 KiB\n",
      "2022-05-31 21:01:40,161 WARN scheduler.DAGScheduler: Broadcasting large task binary with size 7.1 MiB\n",
      "2022-05-31 21:01:48,522 WARN scheduler.DAGScheduler: Broadcasting large task binary with size 2.1 MiB\n",
      "2022-05-31 21:02:12,244 WARN scheduler.DAGScheduler: Broadcasting large task binary with size 1258.1 KiB\n",
      "2022-05-31 21:02:18,670 WARN scheduler.DAGScheduler: Broadcasting large task binary with size 2.4 MiB\n",
      "2022-05-31 21:02:26,609 WARN scheduler.DAGScheduler: Broadcasting large task binary with size 4.6 MiB\n",
      "2022-05-31 21:02:36,628 WARN scheduler.DAGScheduler: Broadcasting large task binary with size 1421.0 KiB\n",
      "2022-05-31 21:02:38,756 WARN scheduler.DAGScheduler: Broadcasting large task binary with size 8.8 MiB\n",
      "2022-05-31 21:02:49,520 WARN scheduler.DAGScheduler: Broadcasting large task binary with size 2.6 MiB\n",
      "2022-05-31 21:03:11,029 WARN scheduler.DAGScheduler: Broadcasting large task binary with size 1472.3 KiB\n",
      "2022-05-31 21:03:15,756 WARN scheduler.DAGScheduler: Broadcasting large task binary with size 2.8 MiB\n",
      "2022-05-31 21:03:21,813 WARN scheduler.DAGScheduler: Broadcasting large task binary with size 5.2 MiB\n",
      "2022-05-31 21:03:27,944 WARN scheduler.DAGScheduler: Broadcasting large task binary with size 1549.0 KiB\n",
      "2022-05-31 21:03:47,142 WARN scheduler.DAGScheduler: Broadcasting large task binary with size 1019.1 KiB\n",
      "2022-05-31 21:03:52,535 WARN scheduler.DAGScheduler: Broadcasting large task binary with size 1935.4 KiB\n",
      "2022-05-31 21:03:58,888 WARN scheduler.DAGScheduler: Broadcasting large task binary with size 3.7 MiB\n",
      "2022-05-31 21:04:05,729 WARN scheduler.DAGScheduler: Broadcasting large task binary with size 1104.2 KiB\n",
      "2022-05-31 21:04:07,363 WARN scheduler.DAGScheduler: Broadcasting large task binary with size 6.9 MiB\n",
      "2022-05-31 21:04:16,287 WARN scheduler.DAGScheduler: Broadcasting large task binary with size 2.0 MiB\n",
      "2022-05-31 21:04:40,854 WARN scheduler.DAGScheduler: Broadcasting large task binary with size 1254.3 KiB\n",
      "2022-05-31 21:04:47,457 WARN scheduler.DAGScheduler: Broadcasting large task binary with size 2.4 MiB\n",
      "2022-05-31 21:04:55,815 WARN scheduler.DAGScheduler: Broadcasting large task binary with size 4.6 MiB\n",
      "2022-05-31 21:05:05,844 WARN scheduler.DAGScheduler: Broadcasting large task binary with size 1383.2 KiB\n",
      "2022-05-31 21:05:07,786 WARN scheduler.DAGScheduler: Broadcasting large task binary with size 8.7 MiB\n",
      "2022-05-31 21:05:18,019 WARN scheduler.DAGScheduler: Broadcasting large task binary with size 2.5 MiB\n",
      "2022-05-31 21:05:47,952 WARN scheduler.DAGScheduler: Broadcasting large task binary with size 1908.8 KiB\n",
      "2022-05-31 21:05:54,649 WARN scheduler.DAGScheduler: Broadcasting large task binary with size 3.6 MiB\n",
      "2022-05-31 21:06:01,924 WARN scheduler.DAGScheduler: Broadcasting large task binary with size 1095.4 KiB\n",
      "2022-05-31 21:06:04,019 WARN scheduler.DAGScheduler: Broadcasting large task binary with size 6.9 MiB\n",
      "2022-05-31 21:06:12,806 WARN scheduler.DAGScheduler: Broadcasting large task binary with size 2041.7 KiB\n",
      "                                                                                \r"
     ]
    }
   ],
   "source": [
    "# train and get best parameter\n",
    "rfcvModel = rfcv.fit(trainingData)"
   ]
  },
  {
   "cell_type": "code",
   "execution_count": 35,
   "id": "cf63f2c4-1894-4879-b3a7-4817f1380177",
   "metadata": {},
   "outputs": [
    {
     "name": "stderr",
     "output_type": "stream",
     "text": [
      "                                                                                \r"
     ]
    },
    {
     "name": "stdout",
     "output_type": "stream",
     "text": [
      "r2: 0.6549547648962749\n"
     ]
    },
    {
     "name": "stderr",
     "output_type": "stream",
     "text": [
      "                                                                                \r"
     ]
    },
    {
     "name": "stdout",
     "output_type": "stream",
     "text": [
      "mae: 331.5699460661897\n"
     ]
    },
    {
     "name": "stderr",
     "output_type": "stream",
     "text": [
      "[Stage 2930:==========================================>           (14 + 3) / 18]\r"
     ]
    },
    {
     "name": "stdout",
     "output_type": "stream",
     "text": [
      "mse: 579240.2577312682\n"
     ]
    },
    {
     "name": "stderr",
     "output_type": "stream",
     "text": [
      "                                                                                \r"
     ]
    }
   ],
   "source": [
    "# pred\n",
    "rfpredictions = rfcvModel.transform(testData)\n",
    "\n",
    "print('r2:', rfevaluator.evaluate(rfpredictions,{rfevaluator.metricName: \"r2\"}))\n",
    "print('mae:', rfevaluator.evaluate(rfpredictions,{rfevaluator.metricName: \"mae\"}))\n",
    "print('mse:', rfevaluator.evaluate(rfpredictions,{rfevaluator.metricName: \"mse\"}))"
   ]
  },
  {
   "cell_type": "code",
   "execution_count": 36,
   "id": "9e0588d1-539d-4ede-96d8-e5bd9436b97d",
   "metadata": {},
   "outputs": [
    {
     "name": "stdout",
     "output_type": "stream",
     "text": [
      "bestPipeline = PipelineModel_33dd5c1000ba\n",
      "bestModel = RandomForestRegressionModel: uid=RandomForestRegressor_7615a5d19c5c, numTrees=100, numFeatures=12\n",
      "importances = (12,[0,1,2,3,4,5,6,7,8,9,10,11],[0.034863124863503375,0.12422743996525529,0.004315426561074794,0.009174426191053655,0.019899210932685193,0.021520635281870083,0.11689061607872192,0.0037649750392898416,0.4703085758020689,0.04267420216997969,0.0420169223206343,0.11034444479386274])\n"
     ]
    }
   ],
   "source": [
    "# best parameters\n",
    "print(f'bestPipeline = {rfcvModel.bestModel}')\n",
    "print(f'bestModel = {bestPipeline.stages[1]}')\n",
    "print(f'importances = {bestModel.featureImportances}')"
   ]
  },
  {
   "cell_type": "markdown",
   "id": "31231995-bfd4-4663-a52d-6a5dd7ed5b26",
   "metadata": {},
   "source": [
    "---"
   ]
  }
 ],
 "metadata": {
  "kernelspec": {
   "display_name": "Python 3 (ipykernel)",
   "language": "python",
   "name": "python3"
  },
  "language_info": {
   "codemirror_mode": {
    "name": "ipython",
    "version": 3
   },
   "file_extension": ".py",
   "mimetype": "text/x-python",
   "name": "python",
   "nbconvert_exporter": "python",
   "pygments_lexer": "ipython3",
   "version": "3.8.10"
  }
 },
 "nbformat": 4,
 "nbformat_minor": 5
}
